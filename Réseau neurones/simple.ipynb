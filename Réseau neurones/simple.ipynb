{
 "cells": [
  {
   "cell_type": "code",
   "execution_count": 14,
   "metadata": {
    "collapsed": false
   },
   "outputs": [],
   "source": [
    "import numpy as np, random\n",
    "import tensorflow as tf"
   ]
  },
  {
   "cell_type": "code",
   "execution_count": 2,
   "metadata": {
    "collapsed": true
   },
   "outputs": [],
   "source": [
    "def as_bytes(n, final_size):\n",
    "    res = []\n",
    "    for _ in range(final_size):\n",
    "        res.append(n%2)\n",
    "        n = n//2\n",
    "    return res"
   ]
  },
  {
   "cell_type": "code",
   "execution_count": 3,
   "metadata": {
    "collapsed": false
   },
   "outputs": [],
   "source": [
    "def generate_example(num_bits):\n",
    "    a = random.randint(0, 2**(num_bits-1)-1)\n",
    "    b = random.randint(0, 2**(num_bits-1)-1)\n",
    "    c = a+b\n",
    "    return (as_bytes(a, num_bits), as_bytes(b, num_bits),\n",
    "            as_bytes(c, num_bits))"
   ]
  },
  {
   "cell_type": "code",
   "execution_count": 4,
   "metadata": {
    "collapsed": true
   },
   "outputs": [],
   "source": [
    "def generate_batch(num_bits, batch_size):\n",
    "    x = np.empty([num_bits, batch_size, 2])\n",
    "    y = np.empty([num_bits, batch_size, 1])\n",
    "    \n",
    "    for i in range(batch_size):\n",
    "        a, b, s = generate_example(num_bits)\n",
    "        \n",
    "        x[:,i,0] = a\n",
    "        x[:,i,1] = b\n",
    "        y[:,i,0] = s\n",
    "    return x, y"
   ]
  },
  {
   "cell_type": "code",
   "execution_count": 41,
   "metadata": {
    "collapsed": false
   },
   "outputs": [],
   "source": [
    "#####################################################################\n",
    "#############             Graph Definition             ##############\n",
    "#####################################################################\n",
    "LOGDIR = '/home/louis/python/notebooks/.tensorflow_logs_dir/'\n",
    "\n",
    "with tf.Graph().as_default() as graph:\n",
    "    INPUT_SIZE = 2\n",
    "    OUTPUT_SIZE = 1\n",
    "    RNN_HIDDEN = 5\n",
    "    LEARNING_RATE = 0.01\n",
    "    \n",
    "\n",
    "    # Definition of the inputs and outputs\n",
    "    inputs = tf.placeholder(tf.float32, (None, None, INPUT_SIZE))\n",
    "    labels = tf.placeholder(tf.float32, (None, None, OUTPUT_SIZE))\n",
    "\n",
    "    # Definition of the cell\n",
    "    cell = tf.contrib.rnn.BasicLSTMCell(num_units=RNN_HIDDEN, state_is_tuple=True)\n",
    "\n",
    "    # Definition of the initial state\n",
    "    batch_size = tf.shape(inputs)[1]\n",
    "    initial_state = cell.zero_state(batch_size, tf.float32)\n",
    "\n",
    "    # Computation of the outputs and states\n",
    "    with tf.name_scope('states'):\n",
    "        rnn_outputs, rnn_states = tf.nn.dynamic_rnn(cell, inputs, dtype=np.float32, \n",
    "                                                    initial_state=initial_state, \n",
    "                                                    time_major=True)\n",
    "        _ = tf.summary.histogram('lstm_states_histo', rnn_states)\n",
    "\n",
    "    # Definition of the outputs\n",
    "    final_projection = lambda x: tf.contrib.layers.linear(x, num_outputs=OUTPUT_SIZE, \n",
    "                                                          activation_fn=tf.nn.sigmoid)\n",
    "\n",
    "    # Application of final projection to the outputs\n",
    "    logits = tf.map_fn(final_projection, rnn_outputs)\n",
    "\n",
    "    # Computation of the loss\n",
    "    loss = -(labels*tf.log(logits) + (1.0 - labels)*tf.log(1.0 - logits))\n",
    "    with tf.name_scope('loss'):\n",
    "        loss = tf.reduce_mean(loss)\n",
    "        _ = tf.summary.scalar('loss_function', loss)\n",
    "\n",
    "    # train_optimizer\n",
    "    train_optimizer = tf.train.AdamOptimizer(learning_rate=LEARNING_RATE).minimize(loss)\n",
    "\n",
    "    # For validation purpose\n",
    "    accuracy = tf.reduce_mean(tf.cast(abs(logits - labels) < 0.5, tf.float32))\n",
    "    \n",
    "    #### Summaries ####\n",
    "    merged = tf.summary.merge_all()\n",
    "    writer = tf.summary.FileWriter(LOGDIR, graph)"
   ]
  },
  {
   "cell_type": "code",
   "execution_count": 42,
   "metadata": {
    "collapsed": false
   },
   "outputs": [
    {
     "name": "stdout",
     "output_type": "stream",
     "text": [
      "Iteration : 0, Epoch Loss = 0.006791\n",
      "Accuracy = 57.9\n",
      "Iteration : 1, Epoch Loss = 0.003834\n",
      "Accuracy = 87.9\n",
      "Iteration : 2, Epoch Loss = 0.000703\n",
      "Accuracy = 100.0\n"
     ]
    }
   ],
   "source": [
    "###########################################################################\n",
    "########                         Training Loop                     ########\n",
    "###########################################################################\n",
    "\n",
    "NUM_EPOCHS = 1000\n",
    "ITERATONS_PER_EPOCH = 100\n",
    "NUM_BITS = 10\n",
    "BATCH_SIZE = 16\n",
    "\n",
    "valid_x, valid_y = generate_batch(num_bits=NUM_BITS, batch_size=100)\n",
    "\n",
    "with tf.Session(graph=graph) as session:\n",
    "    session.run(tf.global_variables_initializer())\n",
    "    for i in range(NUM_EPOCHS):\n",
    "        epoch_loss = 0\n",
    "        for j in range(ITERATONS_PER_EPOCH):\n",
    "            x, y = generate_batch(num_bits=NUM_BITS, batch_size=BATCH_SIZE, )\n",
    "            loss_summaries = []\n",
    "            epoch_loss, _, summaries = session.run([loss, train_optimizer, merged], \n",
    "                                        feed_dict={inputs:x, \n",
    "                                                   labels:y})\n",
    "            \n",
    "            # Summaries\n",
    "            ind = i*ITERATONS_PER_EPOCH + j\n",
    "            if ind % 10 == 0: writer.add_summary(summaries, ind)\n",
    "            \n",
    "        epoch_loss /= ITERATONS_PER_EPOCH\n",
    "        valid_accuracy = session.run([accuracy], \n",
    "                                     feed_dict={inputs:valid_x, labels:valid_y})[0]\n",
    "        print('Iteration : %d, Epoch Loss = %.6f' % (i, epoch_loss))\n",
    "        print('Accuracy = %.1f' % (valid_accuracy*100.))\n",
    "        if valid_accuracy == 1: break"
   ]
  },
  {
   "cell_type": "code",
   "execution_count": null,
   "metadata": {
    "collapsed": true
   },
   "outputs": [],
   "source": []
  }
 ],
 "metadata": {
  "anaconda-cloud": {},
  "kernelspec": {
   "display_name": "Python [conda root]",
   "language": "python",
   "name": "conda-root-py"
  },
  "language_info": {
   "codemirror_mode": {
    "name": "ipython",
    "version": 3
   },
   "file_extension": ".py",
   "mimetype": "text/x-python",
   "name": "python",
   "nbconvert_exporter": "python",
   "pygments_lexer": "ipython3",
   "version": "3.5.2"
  }
 },
 "nbformat": 4,
 "nbformat_minor": 1
}
