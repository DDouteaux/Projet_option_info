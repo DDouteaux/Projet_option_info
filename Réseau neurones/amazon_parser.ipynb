{
 "cells": [
  {
   "cell_type": "code",
   "execution_count": 1,
   "metadata": {
    "collapsed": true
   },
   "outputs": [],
   "source": [
    "import numpy as np, pandas as pd\n",
    "from nltk.tokenize import word_tokenize\n",
    "from collections import Counter\n",
    "import re\n",
    "from itertools import chain\n",
    "import matplotlib.pyplot as plt\n",
    "import seaborn as sns\n",
    "%matplotlib inline\n",
    "sns.set_context('poster' ,rc={'figure.figsize': (10,7)})"
   ]
  },
  {
   "cell_type": "code",
   "execution_count": 2,
   "metadata": {
    "collapsed": true
   },
   "outputs": [],
   "source": [
    "path_to_file = 'Amazon_Musical_Instruments.csv'"
   ]
  },
  {
   "cell_type": "code",
   "execution_count": 208,
   "metadata": {
    "collapsed": false
   },
   "outputs": [],
   "source": [
    "def prepare_data(path_to_file):\n",
    "    \"\"\"Put data in the correct form for the model\"\"\"\n",
    "    df = pd.read_csv(path_to_file, sep='\\t')\n",
    "    df = df.dropna()\n",
    "    df = df.rename(columns={col:col.lstrip().lower() for col in df.columns})\n",
    "    df = df[['comment', 'rating']]\n",
    "    df.comment = (df.comment.str.lower().str.replace('[^a-z.,;:\\(\\)?!]+', ' ')\n",
    "                  .str.replace('.', '. '))\n",
    "    print('Database loaded and formatted ; tokenizing comments...')\n",
    "    \n",
    "    df.comment = df.comment.apply(word_tokenize)\n",
    "    words = list(chain(*df.comment))\n",
    "    c = Counter(words)\n",
    "    freqs = c.most_common()\n",
    "    counts = dict(freqs)\n",
    "    \n",
    "    dictionary = dict(zip([w for w,f in freqs], range(2, len(freqs)+2)))\n",
    "    reverse_dictionary = {v:k for k,v in dictionary.items()}\n",
    "    print('Comments tokenized and various utility structures created')\n",
    "\n",
    "    df['data'] = df.comment.apply(lambda l: [dictionary[w] for w in l])\n",
    "\n",
    "    dataset = (list(df.data), list(df.rating))\n",
    "    print(\"Done\")\n",
    "    return dataset, counts, dictionary, reverse_dictionary"
   ]
  },
  {
   "cell_type": "code",
   "execution_count": 209,
   "metadata": {
    "collapsed": false
   },
   "outputs": [
    {
     "name": "stdout",
     "output_type": "stream",
     "text": [
      "Database loaded and formatted ; tokenizing comments...\n",
      "Comments tokenized and various utility structures created\n",
      "Done\n"
     ]
    }
   ],
   "source": [
    "path_to_file = 'Amazon_Musical_Instruments.csv'\n",
    "dataset, counts, dictionary, reverse_dictionary = prepare_data(path_to_file)"
   ]
  },
  {
   "cell_type": "markdown",
   "metadata": {},
   "source": [
    " "
   ]
  },
  {
   "cell_type": "markdown",
   "metadata": {},
   "source": [
    " "
   ]
  },
  {
   "cell_type": "markdown",
   "metadata": {},
   "source": [
    " "
   ]
  }
 ],
 "metadata": {
  "anaconda-cloud": {},
  "kernelspec": {
   "display_name": "Python [conda root]",
   "language": "python",
   "name": "conda-root-py"
  },
  "language_info": {
   "codemirror_mode": {
    "name": "ipython",
    "version": 3
   },
   "file_extension": ".py",
   "mimetype": "text/x-python",
   "name": "python",
   "nbconvert_exporter": "python",
   "pygments_lexer": "ipython3",
   "version": "3.5.2"
  }
 },
 "nbformat": 4,
 "nbformat_minor": 1
}
