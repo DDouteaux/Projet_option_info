{
 "cells": [
  {
   "cell_type": "code",
   "execution_count": 1,
   "metadata": {
    "collapsed": false
   },
   "outputs": [],
   "source": [
    "import tensorflow as tf, numpy as np\n",
    "np.set_printoptions(precision=4, edgeitems=10, suppress=1)\n",
    "import random, pickle, time\n",
    "from itertools import chain\n",
    "from collections import defaultdict\n",
    "\n",
    "import matplotlib.pyplot as plt\n",
    "import seaborn as sns\n",
    "%config InlineBackend.figure_format = 'retina'\n",
    "%matplotlib inline\n",
    "sns.set_context('poster')"
   ]
  },
  {
   "cell_type": "markdown",
   "metadata": {},
   "source": [
    " "
   ]
  },
  {
   "cell_type": "code",
   "execution_count": 6,
   "metadata": {
    "collapsed": false
   },
   "outputs": [],
   "source": [
    "with open('imdb.pkl', 'rb') as f:\n",
    "    save = pickle.load(f)\n",
    "    train = save['train']\n",
    "    test = save['test']\n",
    "    del save\n",
    "    \n",
    "with open('imdb.dict.pkl', 'rb') as f:\n",
    "    # word:id mapping (here id is the rank of frequency)\n",
    "    dictionary = pickle.load(f, encoding='utf8')\n",
    "reverse_dictionary = dict(zip(dictionary.values(), dictionary.keys()))\n",
    "\n",
    "with open('two_dico_embeddings.pickle', 'rb') as f:\n",
    "    # id:embedding dictionary and word:embedding dictionary\n",
    "    save = pickle.load(f)\n",
    "    dico_embedding_id = save['dico_embedding_id']\n",
    "    dico_embedding_word = save['dico_embedding_word']\n",
    "    del save"
   ]
  },
  {
   "cell_type": "markdown",
   "metadata": {},
   "source": [
    " "
   ]
  },
  {
   "cell_type": "markdown",
   "metadata": {},
   "source": [
    " "
   ]
  },
  {
   "cell_type": "markdown",
   "metadata": {},
   "source": [
    " "
   ]
  },
  {
   "cell_type": "markdown",
   "metadata": {},
   "source": [
    "## Deal with Hyperparameters"
   ]
  },
  {
   "cell_type": "code",
   "execution_count": 7,
   "metadata": {
    "collapsed": true
   },
   "outputs": [],
   "source": [
    "MAXLEN = 500             # we consider sentences up to this length\n",
    "VOCAB_SIZE = 10000       # number of different words considered\n",
    "VALID_BATCH_SIZE = 500  # number of sentences for the validation set\n",
    "\n",
    "SIZE_EMBEDDING = 50      # size of the embeddings for the input vectors\n",
    "OUTPUT_SIZE = 1          # size of the prediction (0 or 1 in our case)\n",
    "\n",
    "# ======================================================\n",
    "\n",
    "RNN_HIDDEN = 200         # size of the LSTM hidden layer\n",
    "LEARNING_RATE = 0.1      # learning rate\n",
    "\n",
    "TINY = 1e-7              # just to avoid some weird corner case when \n",
    "                             # computing the cross-entropy\n",
    "    \n",
    "NUM_EPOCHS = 100        \n",
    "ITERATONS_PER_EPOCH = 20\n",
    "BATCH_SIZE = 15"
   ]
  },
  {
   "cell_type": "markdown",
   "metadata": {},
   "source": [
    "  "
   ]
  },
  {
   "cell_type": "markdown",
   "metadata": {},
   "source": [
    " "
   ]
  },
  {
   "cell_type": "code",
   "execution_count": 12,
   "metadata": {
    "collapsed": false
   },
   "outputs": [
    {
     "data": {
      "text/plain": [
       "<matplotlib.axes._subplots.AxesSubplot at 0x7fbc6937eda0>"
      ]
     },
     "execution_count": 12,
     "metadata": {},
     "output_type": "execute_result"
    },
    {
     "data": {
      "image/png": "[encoded data removed]",
      "text/plain": [
       "<matplotlib.figure.Figure at 0x7fbc6936d048>"
      ]
     },
     "metadata": {
      "image/png": {
       "height": 475,
       "width": 619
      }
     },
     "output_type": "display_data"
    }
   ],
   "source": [
    "lengths = [len(seq) for seq in train[0]]+[len(seq) for seq in test[0]]\n",
    "lengths_800 = ([len(seq) for seq in train[0] if len(seq) < 800]+\n",
    "               [len(seq) for seq in test[0] if len(seq) < 800])\n",
    "with plt.rc_context({'figure.figsize': (10, 8)}):\n",
    "    sns.distplot(lengths_800, kde=0, bins=100)"
   ]
  },
  {
   "cell_type": "markdown",
   "metadata": {},
   "source": [
    "## Take or cut data to wanted length"
   ]
  },
  {
   "cell_type": "code",
   "execution_count": 15,
   "metadata": {
    "collapsed": false
   },
   "outputs": [
    {
     "name": "stdout",
     "output_type": "stream",
     "text": [
      "new dataset length : 22210\n",
      "We lost 11.16% of the data\n",
      "new dataset length : 22391\n",
      "We lost 10.44% of the data\n"
     ]
    }
   ],
   "source": [
    "def reduced_set(dataset, maxlen=MAXLEN):\n",
    "    new_seqs, new_labels = [], []\n",
    "    for seq, label in zip(dataset[0], dataset[1]):\n",
    "        if len(seq) <= maxlen:\n",
    "            new_seqs.append(seq)\n",
    "            new_labels.append(label)\n",
    "    print('new dataset length :', len(new_labels))\n",
    "    print('We lost %.2f%% of the data' % \n",
    "          ((len(dataset[1]) - len(new_labels))*100/len(dataset[1]))\n",
    "         )\n",
    "    return (new_seqs, new_labels)\n",
    "\n",
    "train_reduced = reduced_set(train, maxlen=MAXLEN)\n",
    "test_reduced = reduced_set(test, maxlen=MAXLEN)"
   ]
  },
  {
   "cell_type": "markdown",
   "metadata": {},
   "source": [
    " "
   ]
  },
  {
   "cell_type": "markdown",
   "metadata": {},
   "source": [
    "## Put rare words as unknowns"
   ]
  },
  {
   "cell_type": "code",
   "execution_count": 16,
   "metadata": {
    "collapsed": false
   },
   "outputs": [],
   "source": [
    "def generalized_set(dataset, vocab_size=VOCAB_SIZE):\n",
    "    return ([[i if i <= vocab_size else 1 for i in seq] for seq in dataset[0]], \n",
    "               dataset[1]) \n",
    "train_reduced2 = generalized_set(train_reduced)\n",
    "test_reduced2 = generalized_set(test_reduced)"
   ]
  },
  {
   "cell_type": "markdown",
   "metadata": {},
   "source": [
    " "
   ]
  },
  {
   "cell_type": "markdown",
   "metadata": {},
   "source": [
    "## Routines pour générer les données "
   ]
  },
  {
   "cell_type": "code",
   "execution_count": 17,
   "metadata": {
    "collapsed": false,
    "scrolled": true
   },
   "outputs": [],
   "source": [
    "def generate_batch(train, batch_size=BATCH_SIZE):\n",
    "    seqs, labels = train\n",
    "    x = np.zeros((MAXLEN, batch_size, SIZE_EMBEDDING), dtype=np.float)\n",
    "    xmask = np.zeros((MAXLEN, batch_size, 1), dtype=np.float)\n",
    "    y = np.zeros((1, batch_size, 1), dtype=np.float)\n",
    "    \n",
    "    idx_batch = random.sample(range(len(labels)), batch_size)\n",
    "    seqs_batch = [seqs[i] for i in idx_batch]\n",
    "    labels_batch = [labels[i] for i in idx_batch]\n",
    "    \n",
    "    for j, seq in enumerate(seqs_batch):\n",
    "        for i in range(len(seq)):\n",
    "            x[i,j,:] = dico_embedding_id[seq[i]]\n",
    "        xmask[:len(seq),j,0] = 1\n",
    "        y[0,j,0] = labels_batch[j]\n",
    "    \n",
    "    return x, xmask, y"
   ]
  },
  {
   "cell_type": "markdown",
   "metadata": {},
   "source": [
    " "
   ]
  },
  {
   "cell_type": "markdown",
   "metadata": {},
   "source": [
    " "
   ]
  },
  {
   "cell_type": "markdown",
   "metadata": {},
   "source": [
    " "
   ]
  },
  {
   "cell_type": "markdown",
   "metadata": {},
   "source": [
    "# Graph building and training"
   ]
  },
  {
   "cell_type": "code",
   "execution_count": 19,
   "metadata": {
    "collapsed": false
   },
   "outputs": [],
   "source": [
    "#####################################################################\n",
    "#############             Graph Definition             ##############\n",
    "#####################################################################\n",
    "\n",
    "\n",
    "with tf.Graph().as_default() as graph:\n",
    "    \n",
    "    # Definition of the inputs and outputs\n",
    "    inputs = tf.placeholder(tf.float32, (None, None, SIZE_EMBEDDING)) # time, batch, embedding\n",
    "    masks = tf.placeholder(tf.float32, (None, None, 1))\n",
    "    labels = tf.placeholder(tf.float32, (None, None, OUTPUT_SIZE))\n",
    "\n",
    "    # Definition of the cell ; \n",
    "    # dropout could easily be added with tf.contrib.rnn.DropoutWrapper\n",
    "    cell = tf.contrib.rnn.BasicLSTMCell(RNN_HIDDEN)\n",
    "    \n",
    "    # Definition of the initial state\n",
    "    batch_size = tf.shape(inputs)[1]\n",
    "    initial_state = cell.zero_state(batch_size, tf.float32)\n",
    "\n",
    "    # Computation of the outputs and states\n",
    "    rnn_outputs, rnn_states = tf.nn.dynamic_rnn(cell, inputs, \n",
    "                                                initial_state=initial_state, \n",
    "                                                time_major=True)\n",
    "    ## Apply the masks\n",
    "    rnn_outputs_masked = tf.multiply(rnn_outputs, masks)\n",
    "\n",
    "    ## Averaging on all states (better than taking the last step)\n",
    "    final_outputs = tf.reduce_mean(rnn_outputs_masked, axis=0, keep_dims=True)\n",
    "        \n",
    "\n",
    "    # Projection of the outputs\n",
    "    final_projection = lambda x: tf.contrib.layers.linear(x, num_outputs=OUTPUT_SIZE, \n",
    "                                                          activation_fn=tf.nn.sigmoid)\n",
    "    # Application of final projection to the outputs\n",
    "    logits = tf.map_fn(final_projection, final_outputs)\n",
    "\n",
    "    # Loss\n",
    "    loss = -(labels*tf.log(logits + TINY) + (1.0 - labels)*tf.log(1.0 - logits + TINY))\n",
    "    loss = tf.reduce_mean(loss)\n",
    "\n",
    "    # train_optimizer\n",
    "    train_optimizer = tf.train.AdamOptimizer(learning_rate=LEARNING_RATE).minimize(loss)\n",
    "\n",
    "    # For validation purpose\n",
    "    accuracy = tf.reduce_mean(tf.cast(abs(logits - labels) < 0.5, tf.float32))"
   ]
  },
  {
   "cell_type": "code",
   "execution_count": 21,
   "metadata": {
    "collapsed": false
   },
   "outputs": [],
   "source": [
    "def main(**config_dict):\n",
    "    set_config(config_dict=config_dict)\n",
    "    \n",
    "    ###########################################################################\n",
    "    ########                         Training Loop                     ########\n",
    "    ###########################################################################\n",
    "    valid_x, valid_mask, valid_y = generate_batch(test_reduced2, batch_size=VALID_BATCH_SIZE)\n",
    "\n",
    "    with tf.Session(graph=graph) as session:\n",
    "        session.run(tf.global_variables_initializer())\n",
    "        for i in range(NUM_EPOCHS):\n",
    "            epoch_loss = 0\n",
    "            for j in range(ITERATONS_PER_EPOCH):\n",
    "                x, m, y = generate_batch(train_reduced2, batch_size=BATCH_SIZE)\n",
    "                _loss, _, train_accuracy = session.run([loss, train_optimizer, accuracy], \n",
    "                                                        feed_dict={inputs:x, \n",
    "                                                                   masks:m,\n",
    "                                                                   labels:y})\n",
    "                epoch_loss += _loss\n",
    "                \n",
    "            valid_accuracy = session.run(accuracy, \n",
    "                                         feed_dict={inputs:valid_x, \n",
    "                                                    masks:valid_mask,\n",
    "                                                    labels:valid_y})\n",
    "            print('Iteration : %d, Loss = %.8f' % (i, epoch_loss/ITERATONS_PER_EPOCH))\n",
    "            print('Accuracy = %.1f\\n' % (valid_accuracy*100.))\n",
    "\n",
    "        # final test\n",
    "        test_x, test_mask, test_y = generate_batch(test_reduced2, \n",
    "                                                       batch_size=min(len(test_reduced2[0]), \n",
    "                                                                      5000))\n",
    "        test_accuracy = session.run(accuracy, \n",
    "                                    feed_dict={inputs:test_x, \n",
    "                                               masks:test_mask, \n",
    "                                               labels:test_y})\n",
    "        print('Test Accuracy = %.1f' % (test_accuracy*100.))"
   ]
  },
  {
   "cell_type": "code",
   "execution_count": null,
   "metadata": {
    "collapsed": false
   },
   "outputs": [],
   "source": [
    "main()"
   ]
  }
 ],
 "metadata": {
  "anaconda-cloud": {},
  "kernelspec": {
   "display_name": "Python [default]",
   "language": "python",
   "name": "python3"
  },
  "language_info": {
   "codemirror_mode": {
    "name": "ipython",
    "version": 3
   },
   "file_extension": ".py",
   "mimetype": "text/x-python",
   "name": "python",
   "nbconvert_exporter": "python",
   "pygments_lexer": "ipython3",
   "version": "3.5.2"
  }
 },
 "nbformat": 4,
 "nbformat_minor": 1
}
